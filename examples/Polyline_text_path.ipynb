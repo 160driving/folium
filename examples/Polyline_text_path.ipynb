{
 "cells": [
  {
   "cell_type": "code",
   "execution_count": 1,
   "metadata": {
    "collapsed": true
   },
   "outputs": [],
   "source": [
    "# -*- coding: utf-8 -*-\n",
    "import folium\n",
    "from folium import plugins"
   ]
  },
  {
   "cell_type": "code",
   "execution_count": 2,
   "metadata": {
    "collapsed": false
   },
   "outputs": [
    {
     "data": {
      "text/html": [
       "<div style=\"width:100%;\"><div style=\"position:relative;width:100%;height:0;padding-bottom:60%;\"><iframe src=\"data:text/html;base64,PCFET0NUWVBFIGh0bWw+CjxoZWFkPiAgICAKICAgIDxtZXRhIGh0dHAtZXF1aXY9ImNvbnRlbnQtdHlwZSIgY29udGVudD0idGV4dC9odG1sOyBjaGFyc2V0PVVURi04IiAvPgogICAgPHNjcmlwdD5MX1BSRUZFUl9DQU5WQVMgPSBmYWxzZTsgTF9OT19UT1VDSCA9IGZhbHNlOyBMX0RJU0FCTEVfM0QgPSBmYWxzZTs8L3NjcmlwdD4KICAgIDxzY3JpcHQgc3JjPSJodHRwczovL2NkbmpzLmNsb3VkZmxhcmUuY29tL2FqYXgvbGlicy9sZWFmbGV0LzAuNy4zL2xlYWZsZXQuanMiPjwvc2NyaXB0PgogICAgPHNjcmlwdCBzcmM9Imh0dHBzOi8vYWpheC5nb29nbGVhcGlzLmNvbS9hamF4L2xpYnMvanF1ZXJ5LzEuMTEuMS9qcXVlcnkubWluLmpzIj48L3NjcmlwdD4KICAgIDxzY3JpcHQgc3JjPSJodHRwczovL21heGNkbi5ib290c3RyYXBjZG4uY29tL2Jvb3RzdHJhcC8zLjIuMC9qcy9ib290c3RyYXAubWluLmpzIj48L3NjcmlwdD4KICAgIDxzY3JpcHQgc3JjPSJodHRwczovL2NkbmpzLmNsb3VkZmxhcmUuY29tL2FqYXgvbGlicy9MZWFmbGV0LmF3ZXNvbWUtbWFya2Vycy8yLjAuMi9sZWFmbGV0LmF3ZXNvbWUtbWFya2Vycy5taW4uanMiPjwvc2NyaXB0PgogICAgPHNjcmlwdCBzcmM9Imh0dHBzOi8vY2RuanMuY2xvdWRmbGFyZS5jb20vYWpheC9saWJzL2xlYWZsZXQubWFya2VyY2x1c3Rlci8wLjQuMC9sZWFmbGV0Lm1hcmtlcmNsdXN0ZXItc3JjLmpzIj48L3NjcmlwdD4KICAgIDxzY3JpcHQgc3JjPSJodHRwczovL2NkbmpzLmNsb3VkZmxhcmUuY29tL2FqYXgvbGlicy9sZWFmbGV0Lm1hcmtlcmNsdXN0ZXIvMC40LjAvbGVhZmxldC5tYXJrZXJjbHVzdGVyLmpzIj48L3NjcmlwdD4KICAgIDxsaW5rIHJlbD0ic3R5bGVzaGVldCIgaHJlZj0iaHR0cHM6Ly9jZG5qcy5jbG91ZGZsYXJlLmNvbS9hamF4L2xpYnMvbGVhZmxldC8wLjcuMy9sZWFmbGV0LmNzcyIgLz4KICAgIDxsaW5rIHJlbD0ic3R5bGVzaGVldCIgaHJlZj0iaHR0cHM6Ly9tYXhjZG4uYm9vdHN0cmFwY2RuLmNvbS9ib290c3RyYXAvMy4yLjAvY3NzL2Jvb3RzdHJhcC5taW4uY3NzIiAvPgogICAgPGxpbmsgcmVsPSJzdHlsZXNoZWV0IiBocmVmPSJodHRwczovL21heGNkbi5ib290c3RyYXBjZG4uY29tL2Jvb3RzdHJhcC8zLjIuMC9jc3MvYm9vdHN0cmFwLXRoZW1lLm1pbi5jc3MiIC8+CiAgICA8bGluayByZWw9InN0eWxlc2hlZXQiIGhyZWY9Imh0dHBzOi8vbWF4Y2RuLmJvb3RzdHJhcGNkbi5jb20vZm9udC1hd2Vzb21lLzQuNi4zL2Nzcy9mb250LWF3ZXNvbWUubWluLmNzcyIgLz4KICAgIDxsaW5rIHJlbD0ic3R5bGVzaGVldCIgaHJlZj0iaHR0cHM6Ly9jZG5qcy5jbG91ZGZsYXJlLmNvbS9hamF4L2xpYnMvTGVhZmxldC5hd2Vzb21lLW1hcmtlcnMvMi4wLjIvbGVhZmxldC5hd2Vzb21lLW1hcmtlcnMuY3NzIiAvPgogICAgPGxpbmsgcmVsPSJzdHlsZXNoZWV0IiBocmVmPSJodHRwczovL2NkbmpzLmNsb3VkZmxhcmUuY29tL2FqYXgvbGlicy9sZWFmbGV0Lm1hcmtlcmNsdXN0ZXIvMC40LjAvTWFya2VyQ2x1c3Rlci5EZWZhdWx0LmNzcyIgLz4KICAgIDxsaW5rIHJlbD0ic3R5bGVzaGVldCIgaHJlZj0iaHR0cHM6Ly9jZG5qcy5jbG91ZGZsYXJlLmNvbS9hamF4L2xpYnMvbGVhZmxldC5tYXJrZXJjbHVzdGVyLzAuNC4wL01hcmtlckNsdXN0ZXIuY3NzIiAvPgogICAgPGxpbmsgcmVsPSJzdHlsZXNoZWV0IiBocmVmPSJodHRwczovL3Jhd2dpdC5jb20vcHl0aG9uLXZpc3VhbGl6YXRpb24vZm9saXVtL21hc3Rlci9mb2xpdW0vdGVtcGxhdGVzL2xlYWZsZXQuYXdlc29tZS5yb3RhdGUuY3NzIiAvPgogICAgPHN0eWxlPmh0bWwsIGJvZHkge3dpZHRoOiAxMDAlO2hlaWdodDogMTAwJTttYXJnaW46IDA7cGFkZGluZzogMDt9PC9zdHlsZT4KICAgIDxzdHlsZT4jbWFwIHtwb3NpdGlvbjphYnNvbHV0ZTt0b3A6MDtib3R0b206MDtyaWdodDowO2xlZnQ6MDt9PC9zdHlsZT4KICAgIAogICAgICAgICAgICA8c3R5bGU+ICNtYXBfNGE1YTgyYjg2YTc2NGUyNThmYmI5NDlkMGJiYjcxMGIgewogICAgICAgICAgICAgICAgcG9zaXRpb24gOiByZWxhdGl2ZTsKICAgICAgICAgICAgICAgIHdpZHRoIDogMTAwLjAlOwogICAgICAgICAgICAgICAgaGVpZ2h0OiAxMDAuMCU7CiAgICAgICAgICAgICAgICBsZWZ0OiAwLjAlOwogICAgICAgICAgICAgICAgdG9wOiAwLjAlOwogICAgICAgICAgICAgICAgfQogICAgICAgICAgICA8L3N0eWxlPgogICAgICAgIAogICAgPHNjcmlwdCBzcmM9Imh0dHBzOi8vcmF3Z2l0LmNvbS9tYWtpbmFjb3JwdXMvTGVhZmxldC5UZXh0UGF0aC9naC1wYWdlcy9sZWFmbGV0LnRleHRwYXRoLmpzIj48L3NjcmlwdD4KPC9oZWFkPgo8Ym9keT4gICAgCiAgICAKICAgICAgICAgICAgPGRpdiBjbGFzcz0iZm9saXVtLW1hcCIgaWQ9Im1hcF80YTVhODJiODZhNzY0ZTI1OGZiYjk0OWQwYmJiNzEwYiIgPjwvZGl2PgogICAgICAgIAo8L2JvZHk+CjxzY3JpcHQ+ICAgIAogICAgCgogICAgICAgICAgICAKICAgICAgICAgICAgICAgIHZhciBzb3V0aFdlc3QgPSBMLmxhdExuZygtOTAsIC0xODApOwogICAgICAgICAgICAgICAgdmFyIG5vcnRoRWFzdCA9IEwubGF0TG5nKDkwLCAxODApOwogICAgICAgICAgICAgICAgdmFyIGJvdW5kcyA9IEwubGF0TG5nQm91bmRzKHNvdXRoV2VzdCwgbm9ydGhFYXN0KTsKICAgICAgICAgICAgCgogICAgICAgICAgICB2YXIgbWFwXzRhNWE4MmI4NmE3NjRlMjU4ZmJiOTQ5ZDBiYmI3MTBiID0gTC5tYXAoCiAgICAgICAgICAgICAgICAgICAgICAgICAgICAgICAgICAnbWFwXzRhNWE4MmI4NmE3NjRlMjU4ZmJiOTQ5ZDBiYmI3MTBiJywKICAgICAgICAgICAgICAgICAgICAgICAgICAgICAgICAgIHtjZW50ZXI6IFszMC4wLDAuMF0sCiAgICAgICAgICAgICAgICAgICAgICAgICAgICAgICAgICB6b29tOiAzLAogICAgICAgICAgICAgICAgICAgICAgICAgICAgICAgICAgbWF4Qm91bmRzOiBib3VuZHMsCiAgICAgICAgICAgICAgICAgICAgICAgICAgICAgICAgICBsYXllcnM6IFtdLAogICAgICAgICAgICAgICAgICAgICAgICAgICAgICAgICAgd29ybGRDb3B5SnVtcDogZmFsc2UsCiAgICAgICAgICAgICAgICAgICAgICAgICAgICAgICAgICBjcnM6IEwuQ1JTLkVQU0czODU3CiAgICAgICAgICAgICAgICAgICAgICAgICAgICAgICAgIH0pOwogICAgICAgICAgICAKICAgICAgICAKICAgIAogICAgICAgICAgICB2YXIgdGlsZV9sYXllcl9iNTEzMTI4YTc1ZGE0NDdhYjk5YzMyMjI0OGJiYTZlOSA9IEwudGlsZUxheWVyKAogICAgICAgICAgICAgICAgJ2h0dHBzOi8ve3N9LnRpbGUub3BlbnN0cmVldG1hcC5vcmcve3p9L3t4fS97eX0ucG5nJywKICAgICAgICAgICAgICAgIHsKICAgICAgICAgICAgICAgICAgICBtYXhab29tOiAxOCwKICAgICAgICAgICAgICAgICAgICBtaW5ab29tOiAxLAogICAgICAgICAgICAgICAgICAgIGNvbnRpbnVvdXNXb3JsZDogZmFsc2UsCiAgICAgICAgICAgICAgICAgICAgbm9XcmFwOiBmYWxzZSwKICAgICAgICAgICAgICAgICAgICBhdHRyaWJ1dGlvbjogJ0RhdGEgYnkgPGEgaHJlZj0iaHR0cDovL29wZW5zdHJlZXRtYXAub3JnIj5PcGVuU3RyZWV0TWFwPC9hPiwgdW5kZXIgPGEgaHJlZj0iaHR0cDovL3d3dy5vcGVuc3RyZWV0bWFwLm9yZy9jb3B5cmlnaHQiPk9EYkw8L2E+LicsCiAgICAgICAgICAgICAgICAgICAgZGV0ZWN0UmV0aW5hOiBmYWxzZQogICAgICAgICAgICAgICAgICAgIH0KICAgICAgICAgICAgICAgICkuYWRkVG8obWFwXzRhNWE4MmI4NmE3NjRlMjU4ZmJiOTQ5ZDBiYmI3MTBiKTsKCiAgICAgICAgCiAgICAKICAgICAgICAgICAgICAgIHZhciBwb2x5X2xpbmVfMTM3YzlhOGU2YWE5NDViZTgyOTc3MzljYTNiMWRhMWEgPSBMLnBvbHlsaW5lKAogICAgICAgICAgICAgICAgICAgIFtbNTkuMzU1NiwgLTMxLjk5MjE5XSwgWzU1LjE3ODg3LCAtNDIuODkwNjJdLCBbNDcuNzU0MSwgLTQzLjk0NTMxXSwgWzM4LjI3MjY5LCAtMzcuOTY4NzVdLCBbMjcuMDU5MTMsIC00MS4xMzI4MV0sIFsxNi4yOTkwNSwgLTM2LjU2MjVdLCBbOC40MDcxNywgLTMwLjIzNDM3XSwgWzEuMDU0NjMsIC0yMi41XSwgWy04Ljc1NDc5LCAtMTguMjgxMjVdLCBbLTIxLjYxNjU4LCAtMjAuMDM5MDZdLCBbLTMxLjM1MzY0LCAtMjQuMjU3ODFdLCBbLTM5LjkwOTc0LCAtMzAuOTM3NV0sIFstNDMuODM0NTMsIC00MS4xMzI4MV0sIFstNDcuNzU0MSwgLTQ5LjkyMTg3XSwgWy01MC45NTg0MywgLTU0LjE0MDYyXSwgWy01NS45NzM4LCAtNTYuNjAxNTZdXSwKICAgICAgICAgICAgICAgICAgICB7CiAgICAgICAgICAgICAgICAgICAgICAgIGNvbG9yOiAnIzhFRTlGRicsCiAgICAgICAgICAgICAgICAgICAgICAgIHdlaWdodDogMTUsCiAgICAgICAgICAgICAgICAgICAgICAgIAogICAgICAgICAgICAgICAgICAgICAgICB9KTsKICAgICAgICAgICAgICAgIG1hcF80YTVhODJiODZhNzY0ZTI1OGZiYjk0OWQwYmJiNzEwYi5hZGRMYXllcihwb2x5X2xpbmVfMTM3YzlhOGU2YWE5NDViZTgyOTc3MzljYTNiMWRhMWEpOwogICAgICAgICAgICAKICAgIAogICAgICAgICAgICAgICAgcG9seV9saW5lXzEzN2M5YThlNmFhOTQ1YmU4Mjk3NzM5Y2EzYjFkYTFhLnNldFRleHQoIikgIiwgewogICAgICAgICAgICAgICAgICAgIHJlcGVhdDogdHJ1ZSwKICAgICAgICAgICAgICAgICAgICBjZW50ZXI6IGZhbHNlLAogICAgICAgICAgICAgICAgICAgIGJlbG93OiBmYWxzZSwKICAgICAgICAgICAgICAgICAgICBvZmZzZXQ6IDcsCiAgICAgICAgICAgICAgICAgICAgb3JpZW50YXRpb246IDAsCiAgICAgICAgICAgICAgICAgICAgYXR0cmlidXRlczogeydmb250LXNpemUnOiAnMjQnLCAnZm9udC13ZWlnaHQnOiAnYm9sZCcsICdmaWxsJzogJyMwMDdERUYnfQogICAgICAgICAgICAgICAgfSk7CiAgICAgICAgICAgIAogICAgCiAgICAgICAgICAgICAgICB2YXIgcG9seV9saW5lXzM3MTAxY2NkNWJlYzQ5Njk5OThjZDFhMThiMDk0NzE1ID0gTC5wb2x5bGluZSgKICAgICAgICAgICAgICAgICAgICBbWy00MC4zMTEsIC0zMS45NTJdLCBbLTEyLjA4NiwgLTE4LjcyN11dLAogICAgICAgICAgICAgICAgICAgIHsKICAgICAgICAgICAgICAgICAgICAgICAgY29sb3I6ICdvcmFuZ2UnLAogICAgICAgICAgICAgICAgICAgICAgICB3ZWlnaHQ6IDEwLAogICAgICAgICAgICAgICAgICAgICAgICBvcGFjaXR5OiAwLjgsCiAgICAgICAgICAgICAgICAgICAgICAgIH0pOwogICAgICAgICAgICAgICAgbWFwXzRhNWE4MmI4NmE3NjRlMjU4ZmJiOTQ5ZDBiYmI3MTBiLmFkZExheWVyKHBvbHlfbGluZV8zNzEwMWNjZDViZWM0OTY5OTk4Y2QxYTE4YjA5NDcxNSk7CiAgICAgICAgICAgIAogICAgCiAgICAgICAgICAgICAgICBwb2x5X2xpbmVfMzcxMDFjY2Q1YmVjNDk2OTk5OGNkMWExOGIwOTQ3MTUuc2V0VGV4dCgiXHUyNUJBIiwgewogICAgICAgICAgICAgICAgICAgIHJlcGVhdDogdHJ1ZSwKICAgICAgICAgICAgICAgICAgICBjZW50ZXI6IGZhbHNlLAogICAgICAgICAgICAgICAgICAgIGJlbG93OiBmYWxzZSwKICAgICAgICAgICAgICAgICAgICBvZmZzZXQ6IDYsCiAgICAgICAgICAgICAgICAgICAgb3JpZW50YXRpb246IDAsCiAgICAgICAgICAgICAgICAgICAgYXR0cmlidXRlczogeydmaWxsJzogJ3JlZCd9CiAgICAgICAgICAgICAgICB9KTsKICAgICAgICAgICAgCiAgICAKICAgICAgICAgICAgICAgIHZhciBwb2x5X2xpbmVfNjA3N2JhYjMwZWMxNDljYWE1OWZhNDlmMzgyZmVlOGMgPSBMLnBvbHlsaW5lKAogICAgICAgICAgICAgICAgICAgIFtbLTQ5LjM4MjM3LCAtMzcuMjY1NjJdLCBbLTEuNzU3NTQsIC0xNC40MTQwNl0sIFs1MS42MTgwMiwgLTIzLjIwMzEyXV0sCiAgICAgICAgICAgICAgICAgICAgewogICAgICAgICAgICAgICAgICAgICAgICBjb2xvcjogJ2JsYWNrJywKICAgICAgICAgICAgICAgICAgICAgICAgd2VpZ2h0OiAxLAogICAgICAgICAgICAgICAgICAgICAgICAKICAgICAgICAgICAgICAgICAgICAgICAgfSk7CiAgICAgICAgICAgICAgICBtYXBfNGE1YTgyYjg2YTc2NGUyNThmYmI5NDlkMGJiYjcxMGIuYWRkTGF5ZXIocG9seV9saW5lXzYwNzdiYWIzMGVjMTQ5Y2FhNTlmYTQ5ZjM4MmZlZThjKTsKICAgICAgICAgICAgCiAgICAKICAgICAgICAgICAgICAgIHBvbHlfbGluZV82MDc3YmFiMzBlYzE0OWNhYTU5ZmE0OWYzODJmZWU4Yy5zZXRUZXh0KCJcdTI3MDggICAgICIsIHsKICAgICAgICAgICAgICAgICAgICByZXBlYXQ6IHRydWUsCiAgICAgICAgICAgICAgICAgICAgY2VudGVyOiBmYWxzZSwKICAgICAgICAgICAgICAgICAgICBiZWxvdzogZmFsc2UsCiAgICAgICAgICAgICAgICAgICAgb2Zmc2V0OiA4LAogICAgICAgICAgICAgICAgICAgIG9yaWVudGF0aW9uOiAwLAogICAgICAgICAgICAgICAgICAgIGF0dHJpYnV0ZXM6IHsnZm9udC1zaXplJzogJzI0JywgJ2ZvbnQtd2VpZ2h0JzogJ2JvbGQnfQogICAgICAgICAgICAgICAgfSk7CiAgICAgICAgICAgIAogICAgCiAgICAgICAgICAgICAgICB2YXIgcG9seV9saW5lX2ZjMzg5YmZiMTg5MjQ5Njk4Y2RlNWM1ODcwOTUxZjU2ID0gTC5wb2x5bGluZSgKICAgICAgICAgICAgICAgICAgICBbWzQ2LjY3OTU5NDQ3LCAzLjMzOTg0Mzc1XSwgWzQ2LjU1ODg2MDMsIDI5LjUzMTI1XSwgWzQyLjI5MzU2NDE5LCA1MS4zMjgxMjVdLCBbMzUuNzQ2NTEyMjYsIDY4LjU1NDY4NzVdLCBbMjguNjUyMDMwNjMsIDc2LjgxNjQwNjI1XV0sCiAgICAgICAgICAgICAgICAgICAgewogICAgICAgICAgICAgICAgICAgICAgICAKICAgICAgICAgICAgICAgICAgICAgICAgCiAgICAgICAgICAgICAgICAgICAgICAgIAogICAgICAgICAgICAgICAgICAgICAgICB9KTsKICAgICAgICAgICAgICAgIG1hcF80YTVhODJiODZhNzY0ZTI1OGZiYjk0OWQwYmJiNzEwYi5hZGRMYXllcihwb2x5X2xpbmVfZmMzODliZmIxODkyNDk2OThjZGU1YzU4NzA5NTFmNTYpOwogICAgICAgICAgICAKICAgIAogICAgICAgICAgICAgICAgdmFyIHBvbHlfbGluZV9hNmNkZmM2ZjZhZTE0NzVlYWFjNWUxODdiNTEzMTQ0MSA9IEwucG9seWxpbmUoCiAgICAgICAgICAgICAgICAgICAgW1syOC43Njc2NTkxMSwgNzcuNjA3NDIxODhdLCBbMjcuODM5MDc2MDksIDg4LjcyNTU4NTk0XSwgWzI1LjY4MTEzNzM0LCA5Ny4zODI4MTI1XSwgWzIxLjI0ODQyMjI0LCAxMDUuNzc2MzY3MTldXSwKICAgICAgICAgICAgICAgICAgICB7CiAgICAgICAgICAgICAgICAgICAgICAgIAogICAgICAgICAgICAgICAgICAgICAgICAKICAgICAgICAgICAgICAgICAgICAgICAgCiAgICAgICAgICAgICAgICAgICAgICAgIH0pOwogICAgICAgICAgICAgICAgbWFwXzRhNWE4MmI4NmE3NjRlMjU4ZmJiOTQ5ZDBiYmI3MTBiLmFkZExheWVyKHBvbHlfbGluZV9hNmNkZmM2ZjZhZTE0NzVlYWFjNWUxODdiNTEzMTQ0MSk7CiAgICAgICAgICAgIAogICAgCiAgICAgICAgICAgICAgICBwb2x5X2xpbmVfZmMzODliZmIxODkyNDk2OThjZGU1YzU4NzA5NTFmNTYuc2V0VGV4dCgiVG8gTmV3IERlbGhpIiwgewogICAgICAgICAgICAgICAgICAgIHJlcGVhdDogZmFsc2UsCiAgICAgICAgICAgICAgICAgICAgY2VudGVyOiBmYWxzZSwKICAgICAgICAgICAgICAgICAgICBiZWxvdzogZmFsc2UsCiAgICAgICAgICAgICAgICAgICAgb2Zmc2V0OiAtNSwKICAgICAgICAgICAgICAgICAgICBvcmllbnRhdGlvbjogMCwKICAgICAgICAgICAgICAgICAgICBhdHRyaWJ1dGVzOiB7fQogICAgICAgICAgICAgICAgfSk7CiAgICAgICAgICAgIAogICAgCiAgICAgICAgICAgICAgICBwb2x5X2xpbmVfYTZjZGZjNmY2YWUxNDc1ZWFhYzVlMTg3YjUxMzE0NDEuc2V0VGV4dCgiVG8gSGFub2kiLCB7CiAgICAgICAgICAgICAgICAgICAgcmVwZWF0OiBmYWxzZSwKICAgICAgICAgICAgICAgICAgICBjZW50ZXI6IGZhbHNlLAogICAgICAgICAgICAgICAgICAgIGJlbG93OiBmYWxzZSwKICAgICAgICAgICAgICAgICAgICBvZmZzZXQ6IC01LAogICAgICAgICAgICAgICAgICAgIG9yaWVudGF0aW9uOiAwLAogICAgICAgICAgICAgICAgICAgIGF0dHJpYnV0ZXM6IHt9CiAgICAgICAgICAgICAgICB9KTsKICAgICAgICAgICAgCjwvc2NyaXB0Pg==\" style=\"position:absolute;width:100%;height:100%;left:0;top:0;\"></iframe></div></div>"
      ],
      "text/plain": [
       "<folium.folium.Map at 0x114feac10>"
      ]
     },
     "execution_count": 2,
     "metadata": {},
     "output_type": "execute_result"
    }
   ],
   "source": [
    "m = folium.Map([30., 0.], zoom_start=3)\n",
    "wind_locations = [[59.35560, -31.992190],\n",
    "                  [55.178870, -42.89062],\n",
    "                  [47.754100, -43.94531],\n",
    "                  [38.272690, -37.96875],\n",
    "                  [27.059130, -41.13281],\n",
    "                  [16.299050, -36.56250],\n",
    "                  [8.4071700, -30.23437],\n",
    "                  [1.0546300, -22.50000],\n",
    "                  [-8.754790, -18.28125],\n",
    "                  [-21.61658, -20.03906],\n",
    "                  [-31.35364, -24.25781],\n",
    "                  [-39.90974, -30.93750],\n",
    "                  [-43.83453, -41.13281],\n",
    "                  [-47.75410, -49.92187],\n",
    "                  [-50.95843, -54.14062],\n",
    "                  [-55.97380, -56.60156]]\n",
    "\n",
    "wind_line = folium.PolyLine(wind_locations,\n",
    "                            weight=15,\n",
    "                            color='#8EE9FF').add_to(m)\n",
    "attr = {'fill': '#007DEF', 'font-weight': 'bold', 'font-size': '24'}\n",
    "plugins.PolyLineTextPath(wind_line,\n",
    "                         \") \",\n",
    "                         repeat=True,\n",
    "                         offset=7,\n",
    "                         attributes=attr).add_to(m)\n",
    "\n",
    "danger_line = folium.PolyLine([[-40.311, -31.952],\n",
    "                               [-12.086, -18.727]],\n",
    "                              weight=10,\n",
    "                              color='orange',\n",
    "                              opacity=0.8).add_to(m)\n",
    "attr = {'fill': 'red'}\n",
    "plugins.PolyLineTextPath(danger_line,\n",
    "                         \"\\u25BA\",\n",
    "                         repeat=True,\n",
    "                         offset=6,\n",
    "                         attributes=attr).add_to(m)\n",
    "\n",
    "plane_line = folium.PolyLine([[-49.38237, -37.26562],\n",
    "                              [-1.75754, -14.41406],\n",
    "                              [51.61802, -23.20312]],\n",
    "                             weight=1, color='black').add_to(m)\n",
    "attr = {'font-weight': 'bold', 'font-size': '24'}\n",
    "plugins.PolyLineTextPath(plane_line,\n",
    "                         \"\\u2708     \",\n",
    "                         repeat=True,\n",
    "                         offset=8,\n",
    "                         attributes=attr).add_to(m)\n",
    "\n",
    "line_to_new_delhi = folium.PolyLine([[46.67959447, 3.33984375],\n",
    "                                     [46.5588603, 29.53125],\n",
    "                                     [42.29356419, 51.328125],\n",
    "                                     [35.74651226, 68.5546875],\n",
    "                                     [28.65203063, 76.81640625]]).add_to(m)\n",
    "\n",
    "line_to_hanoi = folium.PolyLine([[28.76765911, 77.60742188],\n",
    "                                 [27.83907609, 88.72558594],\n",
    "                                 [25.68113734, 97.3828125],\n",
    "                                 [21.24842224, 105.77636719]]).add_to(m)\n",
    "\n",
    "plugins.PolyLineTextPath(line_to_new_delhi,\n",
    "                         \"To New Delhi\",\n",
    "                         offset=-5).add_to(m)\n",
    "plugins.PolyLineTextPath(line_to_hanoi, \"To Hanoi\", offset=-5).add_to(m)\n",
    "\n",
    "m"
   ]
  },
  {
   "cell_type": "code",
   "execution_count": null,
   "metadata": {
    "collapsed": true
   },
   "outputs": [],
   "source": []
  }
 ],
 "metadata": {
  "kernelspec": {
   "display_name": "Python 2",
   "language": "python",
   "name": "python2"
  },
  "language_info": {
   "codemirror_mode": {
    "name": "ipython",
    "version": 2
   },
   "file_extension": ".py",
   "mimetype": "text/x-python",
   "name": "python",
   "nbconvert_exporter": "python",
   "pygments_lexer": "ipython2",
   "version": "2.7.11"
  }
 },
 "nbformat": 4,
 "nbformat_minor": 0
}
