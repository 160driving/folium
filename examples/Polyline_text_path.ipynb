{
 "cells": [
  {
   "cell_type": "code",
   "execution_count": 1,
   "metadata": {
    "collapsed": false
   },
   "outputs": [
    {
     "name": "stdout",
     "output_type": "stream",
     "text": [
      "0.3.0.dev\n"
     ]
    }
   ],
   "source": [
    "import folium\n",
    "\n",
    "print(folium.__version__)"
   ]
  },
  {
   "cell_type": "code",
   "execution_count": 2,
   "metadata": {
    "collapsed": false
   },
   "outputs": [
    {
     "data": {
      "text/html": [
       "<div style=\"width:100%;\"><div style=\"position:relative;width:100%;height:0;padding-bottom:60%;\"><iframe src=\"data:text/html;base64,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\" style=\"position:absolute;width:100%;height:100%;left:0;top:0;\" allowfullscreen webkitallowfullscreen mozallowfullscreen></iframe></div></div>"
      ],
      "text/plain": [
       "<folium.folium.Map at 0x7f13c8728208>"
      ]
     },
     "execution_count": 2,
     "metadata": {},
     "output_type": "execute_result"
    }
   ],
   "source": [
    "from folium import plugins\n",
    "\n",
    "m = folium.Map([30, 0], zoom_start=3)\n",
    "\n",
    "wind_locations = [[59.35560, -31.992190],\n",
    "                  [55.178870, -42.89062],\n",
    "                  [47.754100, -43.94531],\n",
    "                  [38.272690, -37.96875],\n",
    "                  [27.059130, -41.13281],\n",
    "                  [16.299050, -36.56250],\n",
    "                  [8.4071700, -30.23437],\n",
    "                  [1.0546300, -22.50000],\n",
    "                  [-8.754790, -18.28125],\n",
    "                  [-21.61658, -20.03906],\n",
    "                  [-31.35364, -24.25781],\n",
    "                  [-39.90974, -30.93750],\n",
    "                  [-43.83453, -41.13281],\n",
    "                  [-47.75410, -49.92187],\n",
    "                  [-50.95843, -54.14062],\n",
    "                  [-55.97380, -56.60156]]\n",
    "\n",
    "wind_line = folium.PolyLine(wind_locations,\n",
    "                            weight=15,\n",
    "                            color='#8EE9FF').add_to(m)\n",
    "\n",
    "attr = {'fill': '#007DEF', 'font-weight': 'bold', 'font-size': '24'}\n",
    "plugins.PolyLineTextPath(wind_line,\n",
    "                         \") \",\n",
    "                         repeat=True,\n",
    "                         offset=7,\n",
    "                         attributes=attr).add_to(m)\n",
    "\n",
    "danger_line = folium.PolyLine([[-40.311, -31.952],\n",
    "                               [-12.086, -18.727]],\n",
    "                              weight=10,\n",
    "                              color='orange',\n",
    "                              opacity=0.8).add_to(m)\n",
    "attr = {'fill': 'red'}\n",
    "plugins.PolyLineTextPath(danger_line,\n",
    "                         \"\\u25BA\",\n",
    "                         repeat=True,\n",
    "                         offset=6,\n",
    "                         attributes=attr).add_to(m)\n",
    "\n",
    "plane_line = folium.PolyLine([[-49.38237, -37.26562],\n",
    "                              [-1.75754, -14.41406],\n",
    "                              [51.61802, -23.20312]],\n",
    "                             weight=1, color='black').add_to(m)\n",
    "\n",
    "attr = {'font-weight': 'bold', 'font-size': '24'}\n",
    "plugins.PolyLineTextPath(plane_line,\n",
    "                         \"\\u2708     \",\n",
    "                         repeat=True,\n",
    "                         offset=8,\n",
    "                         attributes=attr).add_to(m)\n",
    "\n",
    "line_to_new_delhi = folium.PolyLine([[46.67959447, 3.33984375],\n",
    "                                     [46.5588603, 29.53125],\n",
    "                                     [42.29356419, 51.328125],\n",
    "                                     [35.74651226, 68.5546875],\n",
    "                                     [28.65203063, 76.81640625]]).add_to(m)\n",
    "\n",
    "line_to_hanoi = folium.PolyLine([[28.76765911, 77.60742188],\n",
    "                                 [27.83907609, 88.72558594],\n",
    "                                 [25.68113734, 97.3828125],\n",
    "                                 [21.24842224, 105.77636719]]).add_to(m)\n",
    "\n",
    "plugins.PolyLineTextPath(line_to_new_delhi,\n",
    "                         \"To New Delhi\",\n",
    "                         offset=-5).add_to(m)\n",
    "\n",
    "plugins.PolyLineTextPath(line_to_hanoi, \"To Hanoi\", offset=-5).add_to(m)\n",
    "\n",
    "m"
   ]
  }
 ],
 "metadata": {
  "kernelspec": {
   "display_name": "Python [default]",
   "language": "python",
   "name": "python3"
  },
  "language_info": {
   "codemirror_mode": {
    "name": "ipython",
    "version": 3
   },
   "file_extension": ".py",
   "mimetype": "text/x-python",
   "name": "python",
   "nbconvert_exporter": "python",
   "pygments_lexer": "ipython3",
   "version": "3.5.2"
  }
 },
 "nbformat": 4,
 "nbformat_minor": 0
}
