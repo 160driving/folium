{
 "metadata": {
  "name": ""
 },
 "nbformat": 3,
 "nbformat_minor": 0,
 "worksheets": [
  {
   "cells": [
    {
     "cell_type": "code",
     "collapsed": false,
     "input": [
      "import folium\n",
      "folium.initialize_notebook()"
     ],
     "language": "python",
     "metadata": {},
     "outputs": [
      {
       "html": [
        "<link rel=\"stylesheet\" href=\"http://cdn.leafletjs.com/leaflet-0.7.2/leaflet.css\" />\n",
        "<style>\n",
        "    .leaflet-popup-content {\n",
        "        color: black !important;\n",
        "    }\n",
        "\n",
        "    .leaflet-control-zoom-in {\n",
        "        text-decoration: none !important;\n",
        "    }\n",
        "\n",
        "    .leaflet-control-zoom-out {\n",
        "        text-decoration: none !important;\n",
        "    }\n",
        "</style>"
       ],
       "metadata": {},
       "output_type": "display_data",
       "text": [
        "<IPython.core.display.HTML at 0x109455250>"
       ]
      },
      {
       "html": [
        "<script>\n",
        "\n",
        "  var folium_event = new CustomEvent(\n",
        "    \"folium_libs_loaded\",\n",
        "    {bubbles: true, cancelable: true}\n",
        "  );\n",
        "\n",
        "  var load_folium_charts = function(){\n",
        "    window.dispatchEvent(folium_event);\n",
        "  };\n",
        "\n",
        " var load_folium_libs = function(){\n",
        "    console.log('Loading all Folium libraries...')\n",
        "    $.getScript(\"http://cdn.leafletjs.com/leaflet-0.7.2/leaflet.js\", function(){\n",
        "      $.getScript('https://wrobstory.github.io/leaflet-dvf/leaflet-dvf.markers.min.js', function(){\n",
        "          if (window['vg'] === undefined){\n",
        "            $.getScript(\"http://trifacta.github.com/vega/vega.js\", function(){\n",
        "              load_folium_charts();\n",
        "          });\n",
        "        } else {\n",
        "          load_folium_charts();\n",
        "        }\n",
        "      });\n",
        "    });\n",
        "  };\n",
        "\n",
        " if(typeof define === \"function\" && define.amd){\n",
        "      if (window['d3'] === undefined){\n",
        "          require.config(\n",
        "              {paths: {d3: 'http://d3js.org/d3.v3.min',\n",
        "                       topojson:'http://d3js.org/topojson.v1.min',\n",
        "                       queue: 'http://d3js.org/queue.v1.min'}\n",
        "              }\n",
        "            );\n",
        "          require([\"queue\"], function(queue){\n",
        "            debugger\n",
        "            window.queue = queue;\n",
        "          });\n",
        "          require([\"d3\"], function(d3){\n",
        "              console.log('Loading from require.js...')\n",
        "              window.d3 = d3;\n",
        "              require([\"topojson\"], function(topojson){\n",
        "                  window.topojson = topojson;\n",
        "                  load_folium_libs();\n",
        "              });\n",
        "          });\n",
        "      } else {\n",
        "        load_folium_libs();\n",
        "      }\n",
        " }else{\n",
        "      console.log('Require.js not found!');\n",
        "      throw \"Require.js not found!\"\n",
        " };\n",
        "\n",
        "</script>"
       ],
       "metadata": {},
       "output_type": "display_data",
       "text": [
        "<IPython.core.display.HTML at 0x109455250>"
       ]
      }
     ],
     "prompt_number": 2
    },
    {
     "cell_type": "code",
     "collapsed": false,
     "input": [
      "import folium\n",
      "import pandas as pd\n",
      "\n",
      "state_geo = r'us-states.json'\n",
      "state_unemployment = r'files/US_Unemployment_Oct2012.csv'\n",
      "\n",
      "state_data = pd.read_csv(state_unemployment)\n",
      "\n",
      "#Let Folium determine the scale\n",
      "map = folium.Map(location=[48, -102], zoom_start=3)\n",
      "map.geo_json(geo_path=state_geo, data=state_data,\n",
      "             columns=['State', 'Unemployment'],\n",
      "             key_on='feature.id',\n",
      "             fill_color='YlGn', fill_opacity=0.7, line_opacity=0.2,\n",
      "             legend_name='Unemployment Rate (%)')\n",
      "map.create_map('test_ipymap.html')\n",
      "map"
     ],
     "language": "python",
     "metadata": {},
     "outputs": [
      {
       "html": [
        "<iframe src=\"files/files/test_ipymap.html\" style=\"width: 960; height: 500; border: none\"></iframe>"
       ],
       "metadata": {},
       "output_type": "pyout",
       "prompt_number": 10,
       "text": [
        "<folium.folium.Map at 0x103247c90>"
       ]
      }
     ],
     "prompt_number": 10
    },
    {
     "cell_type": "code",
     "collapsed": false,
     "input": [],
     "language": "python",
     "metadata": {},
     "outputs": []
    }
   ],
   "metadata": {}
  }
 ]
}