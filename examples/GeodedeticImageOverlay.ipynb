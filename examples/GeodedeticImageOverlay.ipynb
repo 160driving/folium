{
 "cells": [
  {
   "cell_type": "code",
   "execution_count": 1,
   "metadata": {},
   "outputs": [
    {
     "name": "stdout",
     "output_type": "stream",
     "text": [
      "0.3.0+176.g0534f46.dirty\n"
     ]
    }
   ],
   "source": [
    "import os\n",
    "import folium\n",
    "\n",
    "print(folium.__version__)"
   ]
  },
  {
   "cell_type": "code",
   "execution_count": 2,
   "metadata": {
    "collapsed": true
   },
   "outputs": [],
   "source": [
    "import numpy as np\n",
    "\n",
    "\n",
    "def sample_data(shape=(73, 145)):\n",
    "    nlats, nlons = shape\n",
    "    lats = np.linspace(-np.pi / 2, np.pi / 2, nlats)\n",
    "    lons = np.linspace(0, 2 * np.pi, nlons)\n",
    "    lons, lats = np.meshgrid(lons, lats)\n",
    "    wave = 0.75 * (np.sin(2 * lats) ** 8) * np.cos(4 * lons)\n",
    "    mean = 0.5 * np.cos(2 * lats) * ((np.sin(2 * lats)) ** 2 + 2)\n",
    "\n",
    "    lats = np.rad2deg(lats)\n",
    "    lons = np.rad2deg(lons)\n",
    "    data = wave + mean\n",
    "\n",
    "    return lons, lats, data\n",
    "\n",
    "\n",
    "lon, lat, data = sample_data(shape=(73, 145))\n",
    "lon -= 180"
   ]
  },
  {
   "cell_type": "code",
   "execution_count": 3,
   "metadata": {
    "collapsed": true
   },
   "outputs": [],
   "source": [
    "%matplotlib inline\n",
    "\n",
    "import matplotlib\n",
    "\n",
    "cm = matplotlib.cm.get_cmap('cubehelix')\n",
    "\n",
    "normed_data = (data - data.min()) / (data.max() - data.min())\n",
    "colored_data = cm(normed_data)"
   ]
  },
  {
   "cell_type": "markdown",
   "metadata": {},
   "source": [
    "# Bad"
   ]
  },
  {
   "cell_type": "code",
   "execution_count": 4,
   "metadata": {},
   "outputs": [
    {
     "data": {
      "text/html": [
       "<div style=\"width:100%;\"><div style=\"position:relative;width:100%;height:0;padding-bottom:60%;\"><iframe src=\"data:text/html;charset=utf-8;base64,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\" style=\"position:absolute;width:100%;height:100%;left:0;top:0;border:none !important;\" allowfullscreen webkitallowfullscreen mozallowfullscreen></iframe></div></div>"
      ],
      "text/plain": [
       "<folium.folium.Map at 0x7f4bee58df98>"
      ]
     },
     "execution_count": 4,
     "metadata": {},
     "output_type": "execute_result"
    }
   ],
   "source": [
    "from folium import plugins\n",
    "\n",
    "m = folium.Map(location=[lat.mean(), lon.mean()], zoom_start=1)\n",
    "\n",
    "plugins.ImageOverlay(colored_data,\n",
    "                     [[lat.min(), lon.min()], [lat.max(), lon.max()]],\n",
    "                     opacity=0.25).add_to(m)\n",
    "\n",
    "m.save(os.path.join('results', 'GeodedeticImageOverlay_0.html'))\n",
    "\n",
    "m"
   ]
  },
  {
   "cell_type": "markdown",
   "metadata": {},
   "source": [
    "# Good"
   ]
  },
  {
   "cell_type": "code",
   "execution_count": 5,
   "metadata": {},
   "outputs": [
    {
     "data": {
      "text/html": [
       "<div style=\"width:100%;\"><div style=\"position:relative;width:100%;height:0;padding-bottom:60%;\"><iframe src=\"data:text/html;charset=utf-8;base64,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\" style=\"position:absolute;width:100%;height:100%;left:0;top:0;border:none !important;\" allowfullscreen webkitallowfullscreen mozallowfullscreen></iframe></div></div>"
      ],
      "text/plain": [
       "<folium.folium.Map at 0x7f4bee31b128>"
      ]
     },
     "execution_count": 5,
     "metadata": {},
     "output_type": "execute_result"
    }
   ],
   "source": [
    "m = folium.Map(location=[lat.mean(), lon.mean()], zoom_start=1)\n",
    "\n",
    "plugins.ImageOverlay(colored_data,\n",
    "                     [[lat.min(), lon.min()], [lat.max(), lon.max()]],\n",
    "                     mercator_project=True,\n",
    "                     opacity=0.25).add_to(m)\n",
    "\n",
    "m.save(os.path.join('results', 'GeodedeticImageOverlay_1.html'))\n",
    "\n",
    "m"
   ]
  },
  {
   "cell_type": "markdown",
   "metadata": {},
   "source": [
    "# Same as above but with cartopy"
   ]
  },
  {
   "cell_type": "code",
   "execution_count": 6,
   "metadata": {},
   "outputs": [
    {
     "data": {
      "text/html": [
       "<div style=\"width:100%;\"><div style=\"position:relative;width:100%;height:0;padding-bottom:60%;\"><iframe src=\"data:text/html;charset=utf-8;base64,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\" style=\"position:absolute;width:100%;height:100%;left:0;top:0;border:none !important;\" allowfullscreen webkitallowfullscreen mozallowfullscreen></iframe></div></div>"
      ],
      "text/plain": [
       "<folium.folium.Map at 0x7f4bee2d7518>"
      ]
     },
     "execution_count": 6,
     "metadata": {},
     "output_type": "execute_result"
    }
   ],
   "source": [
    "import cartopy.crs as ccrs\n",
    "from cartopy.img_transform import warp_array\n",
    "\n",
    "source_extent = [lon.min(), lon.max(), lat.min(), lat.max()]\n",
    "\n",
    "new_data = warp_array(colored_data,\n",
    "                      target_proj=ccrs.GOOGLE_MERCATOR,\n",
    "                      source_proj=ccrs.PlateCarree(),\n",
    "                      target_res=data.shape,\n",
    "                      source_extent=source_extent,\n",
    "                      target_extent=None,\n",
    "                      mask_extrapolated=False)\n",
    "\n",
    "\n",
    "m = folium.Map(location=[lat.mean(), lon.mean()], zoom_start=1)\n",
    "\n",
    "plugins.ImageOverlay(new_data[0],\n",
    "                     [[lat.min(), lon.min()], [lat.max(), lon.max()]],\n",
    "                     opacity=0.25).add_to(m)\n",
    "\n",
    "m.save(os.path.join('results', 'GeodedeticImageOverlay_2.html'))\n",
    "\n",
    "m"
   ]
  },
  {
   "cell_type": "markdown",
   "metadata": {},
   "source": [
    "TODO: Try [rasterio](https://github.com/mapbox/rasterio/blob/ca75cf0a842943c1b3da4522e6ea3500215130fd/docs/reproject.rst).  Rasterio can warp images and arrays."
   ]
  },
  {
   "cell_type": "markdown",
   "metadata": {},
   "source": [
    "# Compare to original"
   ]
  },
  {
   "cell_type": "code",
   "execution_count": 7,
   "metadata": {},
   "outputs": [
    {
     "data": {
      "text/html": [
       "\n",
       "        <iframe\n",
       "            width=\"900\"\n",
       "            height=\"750\"\n",
       "            src=\"http://scitools.org.uk/cartopy/docs/latest/examples/waves.html\"\n",
       "            frameborder=\"0\"\n",
       "            allowfullscreen\n",
       "        ></iframe>\n",
       "        "
      ],
      "text/plain": [
       "<IPython.lib.display.IFrame at 0x7f4bf06ef898>"
      ]
     },
     "execution_count": 7,
     "metadata": {},
     "output_type": "execute_result"
    }
   ],
   "source": [
    "from IPython.display import IFrame\n",
    "\n",
    "url = 'http://scitools.org.uk/cartopy/docs/latest/examples/waves.html'\n",
    "IFrame(url, width=900, height=750)"
   ]
  }
 ],
 "metadata": {
  "kernelspec": {
   "display_name": "Python 3",
   "language": "python",
   "name": "python3"
  },
  "language_info": {
   "codemirror_mode": {
    "name": "ipython",
    "version": 3
   },
   "file_extension": ".py",
   "mimetype": "text/x-python",
   "name": "python",
   "nbconvert_exporter": "python",
   "pygments_lexer": "ipython3",
   "version": "3.6.2"
  }
 },
 "nbformat": 4,
 "nbformat_minor": 1
}
