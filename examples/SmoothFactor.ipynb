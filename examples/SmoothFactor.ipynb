{
 "cells": [
  {
   "cell_type": "markdown",
   "metadata": {},
   "source": [
    "# Using Leaflet's Smooth Factor Option\n",
    "\n",
    "[Polyline](http://leafletjs.com/reference.html#polyline) objects in leaflet are smoothed by default. This removes points from the line, putting less load on the browser when drawing. The level of smoothing [can be specified](http://leafletjs.com/reference.html#polyline-smoothfactor) by passing `smoothFactor` as an option when creating any Polyline object.\n",
    "\n",
    "In folium, the level of smoothing can be determined by passing `smooth_factor` as an argument when initialising GeoJson, TopoJson and Choropleth objects. There are no upper or lower bounds to the smoothing level; Leaflet's default is 1."
   ]
  },
  {
   "cell_type": "code",
   "execution_count": null,
   "metadata": {
    "collapsed": true
   },
   "outputs": [],
   "source": [
    "import folium\n",
    "from folium import plugins"
   ]
  },
  {
   "cell_type": "code",
   "execution_count": null,
   "metadata": {
    "collapsed": false
   },
   "outputs": [],
   "source": [
    "ice_map = folium.Map(location=[-59.1759, -11.6016],\n",
    "                   tiles='Mapbox Bright', zoom_start=2)\n",
    "\n",
    "\n",
    "folium.TopoJson(open('antarctic_ice_shelf_topo.json'),\n",
    "                'objects.antarctic_ice_shelf',\n",
    "                name='default_smoothing',\n",
    "                smooth_factor=1\n",
    "               ).add_to(ice_map)\n",
    "\n",
    "style_function = lambda x: {'color': '#004c00', 'opacity': '0.7'}\n",
    "\n",
    "folium.TopoJson(open('antarctic_ice_shelf_topo.json'),\n",
    "                'objects.antarctic_ice_shelf',\n",
    "                name='default_smoothing',\n",
    "                smooth_factor=10,\n",
    "                style_function=style_function\n",
    "               ).add_to(ice_map)\n",
    "\n",
    "folium.LayerControl().add_to(ice_map)\n",
    "ice_map"
   ]
  }
 ],
 "metadata": {
  "kernelspec": {
   "display_name": "Python 3",
   "language": "python",
   "name": "python3"
  },
  "language_info": {
   "codemirror_mode": {
    "name": "ipython",
    "version": 3
   },
   "file_extension": ".py",
   "mimetype": "text/x-python",
   "name": "python",
   "nbconvert_exporter": "python",
   "pygments_lexer": "ipython3",
   "version": "3.4.5"
  }
 },
 "nbformat": 4,
 "nbformat_minor": 0
}
